{
 "cells": [
  {
   "attachments": {},
   "cell_type": "markdown",
   "metadata": {},
   "source": [
    "# Numpy Tutorial"
   ]
  },
  {
   "cell_type": "code",
   "execution_count": 1,
   "metadata": {},
   "outputs": [],
   "source": [
    "import numpy as np # importing numpy module as np for the currrent file"
   ]
  },
  {
   "cell_type": "code",
   "execution_count": 2,
   "metadata": {},
   "outputs": [
    {
     "name": "stdout",
     "output_type": "stream",
     "text": [
      "[1 2 3 4 5 6]\n",
      "[[ 1  2  3  4  5]\n",
      " [ 6  7  8  9 10]]\n",
      "Element is = 3\n"
     ]
    }
   ],
   "source": [
    "# What is a numpy array?\n",
    "# An array is a central data structure of the NumPy library. \n",
    "# An array is a grid of values and it contains information about the raw data, how to locate an element, and how to interpret an element.\n",
    "\n",
    "\n",
    "# Initialize the numpy array\n",
    "\n",
    "example_array = np.array([1,2,3,4,5,6])\n",
    "print(example_array)\n",
    "\n",
    "# Initialize multi-dimensional array\n",
    "example_MDarray = np.array([[1,2,3,4,5],[6,7,8,9,10]])\n",
    "print(example_MDarray)\n",
    "# Print a specific element\n",
    "print(f\"Element is = {example_MDarray[0][2]}\") # Output = 3"
   ]
  },
  {
   "cell_type": "code",
   "execution_count": 3,
   "metadata": {},
   "outputs": [
    {
     "name": "stdout",
     "output_type": "stream",
     "text": [
      "[0. 0. 0. 0. 0.]\n",
      "[1. 1. 1. 1. 1.]\n",
      "[0 1 2 3 4]\n",
      "[0 2 4 6 8]\n"
     ]
    }
   ],
   "source": [
    "# To create a array with all element initialized as ZERO\n",
    "print(np.zeros(5))\n",
    "# To create a array with all element initialized as ONE\n",
    "print(np.ones(5))\n",
    "# You can create an array with a range of elements that means 0 - (n-1)\n",
    "print(np.arange(5))\n",
    "# And even an array that contains a range of evenly spaced intervals. To do this, you will specify the first number, \n",
    "# last number, and the step size.\n",
    "print(np.arange(0,10,2))\n"
   ]
  },
  {
   "attachments": {},
   "cell_type": "markdown",
   "metadata": {},
   "source": [
    "#### Specifying the dtype explicitly"
   ]
  },
  {
   "cell_type": "code",
   "execution_count": 4,
   "metadata": {},
   "outputs": [
    {
     "name": "stdout",
     "output_type": "stream",
     "text": [
      "[1 1 1 1 1]\n"
     ]
    }
   ],
   "source": [
    "# While the default data type is floating point (np.float64), you can explicitly specify which data type you want using the dtype keyword.\n",
    "example_array = np.ones(5, dtype=np.int8)\n",
    "print(example_array)"
   ]
  },
  {
   "attachments": {},
   "cell_type": "markdown",
   "metadata": {},
   "source": [
    "### Adding Removing Sorting ELements"
   ]
  },
  {
   "cell_type": "code",
   "execution_count": 5,
   "metadata": {},
   "outputs": [
    {
     "name": "stdout",
     "output_type": "stream",
     "text": [
      "[1 2 3 4 5 6 7 8]\n",
      "[1 4 3 2 5 8 7 6]\n"
     ]
    }
   ],
   "source": [
    "# To sort an array\n",
    "arr = np.array([2, 1, 5, 3, 7, 4, 6, 8])\n",
    "arr = np.sort(arr)\n",
    "print(arr)\n",
    "# To concatenate the array\n",
    "a = np.array([1,4,3,2])\n",
    "b = np.array([5,8,7,6])\n",
    "c = np.concatenate((a,b)) # inner brackets () are important otherwise it will throw an error\n",
    "print(c)"
   ]
  },
  {
   "cell_type": "code",
   "execution_count": 6,
   "metadata": {},
   "outputs": [
    {
     "name": "stdout",
     "output_type": "stream",
     "text": [
      "2\n",
      "8\n",
      "(2, 4)\n",
      "Reshape into 4 rows 2 columns\n",
      "[[1 2]\n",
      " [3 4]\n",
      " [5 6]\n",
      " [7 8]]\n",
      "Reshape into 2 rows 4 columns\n",
      "[[1 2 3 4]\n",
      " [5 6 7 8]]\n"
     ]
    }
   ],
   "source": [
    "# ndarray.ndim will tell you the number of axes, or dimensions, of the array.\n",
    "arr = np.array([[1,7,9,0,],[5,6,10,2]])\n",
    "print(arr.ndim) # returns 2 as it is a 2 dimensional array\n",
    "# ndarray.size will tell you the total number of elements of the array.\n",
    "print(arr.size)\n",
    "# ndarray.shape will display a tuple of integers that indicate the number of elements stored along each \n",
    "# dimension of the array. \n",
    "# If, for example, you have a 2-D array with 2 rows and 3 columns, the shape of your array is (2, 3).\n",
    "print(arr.shape)\n",
    "# Can you reshape an array. Answer is YES.\n",
    "arr = np.array([1,2,3,4,5,6,7,8])\n",
    "print(\"Reshape into 4 rows 2 columns\")\n",
    "arr = arr.reshape(4,2) # reshape into 4 rows 2 columns\n",
    "print(arr)\n",
    "print(\"Reshape into 2 rows 4 columns\")\n",
    "arr = arr.reshape(2,4) # reshape into 2 rows 4 columns\n",
    "print(arr)"
   ]
  },
  {
   "attachments": {},
   "cell_type": "markdown",
   "metadata": {},
   "source": [
    "### Indexing and Slicing"
   ]
  },
  {
   "cell_type": "code",
   "execution_count": 7,
   "metadata": {},
   "outputs": [
    {
     "name": "stdout",
     "output_type": "stream",
     "text": [
      "[2 3 4]\n",
      "[1 2 3 4]\n",
      "[5 6]\n",
      "[5 6]\n"
     ]
    }
   ],
   "source": [
    "# You can index and slice NumPy arrays in the same ways you can slice Python lists.\n",
    "slice_example = np.array([1,2,3,4,5,6])\n",
    "print(slice_example[1:4]) # Index No: 1 to (4-1)\n",
    "print(slice_example[:4])  # Default starting point is index no 0\n",
    "print(slice_example[4:])  # Default ending point is index no (array-length - 1)\n",
    "print(slice_example[-2:6]) # Negative slicing means (array-length - negative number)\n",
    "# slice_example[-2:6] = slice_example[6-2:6] = slice_example[4:6]"
   ]
  },
  {
   "cell_type": "code",
   "execution_count": 8,
   "metadata": {},
   "outputs": [
    {
     "name": "stdout",
     "output_type": "stream",
     "text": [
      "Elements greater than or equal to 10\n",
      "[10 11 12]\n",
      "Elements lesser than 5\n",
      "[1 2 3 4]\n",
      "Elements lesser than 10 and greater than 5\n",
      "[9 6 7 8]\n"
     ]
    }
   ],
   "source": [
    "arr = np.array([[1 , 2, 3, 4], [9, 10, 11, 12], [5, 6, 7, 8]])\n",
    "# You can easily print all of the values in the array that are less than 5.\n",
    "print(\"Elements greater than or equal to 10\")\n",
    "print(arr[arr >= 10])\n",
    "print(\"Elements lesser than 5\")\n",
    "print(arr[arr < 5])\n",
    "# Or you can select elements that satisfy two conditions using the & and | operators:\n",
    "ans = arr[(arr < 10) & (arr > 5)] # inner brackets are important\n",
    "print(\"Elements lesser than 10 and greater than 5\")\n",
    "print(ans)"
   ]
  },
  {
   "cell_type": "code",
   "execution_count": 9,
   "metadata": {},
   "outputs": [
    {
     "name": "stdout",
     "output_type": "stream",
     "text": [
      "[1 2 3 4 5 6]\n"
     ]
    }
   ],
   "source": [
    "# You can copy one array to another variable\n",
    "arr = np.array([1,2,3,4,5,6])\n",
    "copy_arr = arr.copy()\n",
    "print(copy_arr)"
   ]
  },
  {
   "attachments": {},
   "cell_type": "markdown",
   "metadata": {},
   "source": [
    "### Basic array operations\n",
    "#### This section covers addition, subtraction, multiplication, division, and more"
   ]
  },
  {
   "cell_type": "code",
   "execution_count": 10,
   "metadata": {},
   "outputs": [
    {
     "name": "stdout",
     "output_type": "stream",
     "text": [
      "Addition of 1-D array [ 6  8 12 12]\n",
      "Subtraction of 1-D array [4 4 6 4]\n",
      "Multiplication of 1-D array [ 5 12 27 32]\n",
      "Multiplication of 1-D array [5. 3. 3. 2.]\n",
      "Addition of 2-D array \n",
      "[[ 2  4  6  8]\n",
      " [10 12 14 16]]\n"
     ]
    }
   ],
   "source": [
    "arr1 = np.array([1,2,3,4])\n",
    "arr2 = np.array([5,6,9,8])\n",
    "add = arr1 + arr2\n",
    "print(f\"Addition of 1-D array {add}\")\n",
    "sub = arr2-arr1\n",
    "print(f\"Subtraction of 1-D array {sub}\")\n",
    "mul = arr1*arr2\n",
    "print(f\"Multiplication of 1-D array {mul}\")\n",
    "div = arr2/arr1\n",
    "print(f\"Multiplication of 1-D array {div}\")\n",
    "arr2 = np.array([[1,2,3,4],[5,6,7,8]])\n",
    "arr1 = np.array([[1,2,3,4],[5,6,7,8]])\n",
    "add = arr1 + arr2\n",
    "print(f\"Addition of 2-D array \\n{add}\")\n"
   ]
  },
  {
   "cell_type": "code",
   "execution_count": 11,
   "metadata": {},
   "outputs": [
    {
     "name": "stdout",
     "output_type": "stream",
     "text": [
      "[12 15 18]\n",
      "[ 6 15 24]\n",
      "45\n",
      "Scaler Multiplication\n",
      "[[ 2  4  6]\n",
      " [ 8 10 12]\n",
      " [14 16 18]]\n"
     ]
    }
   ],
   "source": [
    "# Sum of elements in row-wise (axis = 0)\n",
    "arr = np.array([\n",
    "    [1,2,3],\n",
    "    [4,5,6],\n",
    "    [7,8,9]\n",
    "])\n",
    "print(arr.sum(axis=0))\n",
    "'''\n",
    "Axis = 0 that means row-wise elements sum\n",
    "1   2   3\n",
    "+   +   +\n",
    "4   5   6\n",
    "+   +   +\n",
    "7   8   9\n",
    "=   =   =   \n",
    "12  15  18\n",
    "Axis = 1 that means column-wise elements sum\n",
    "1 + 2 + 3 = 6\n",
    "4 + 5 + 6 = 15\n",
    "7 + 8 + 9 = 24\n",
    "'''\n",
    "print(arr.sum(axis=1))\n",
    "# Sum of all elements in the array\n",
    "print(arr.sum())\n",
    "# If we want to scaler multiply with the array we can do it\n",
    "print(\"Scaler Multiplication\")\n",
    "print(arr * 2)"
   ]
  },
  {
   "attachments": {},
   "cell_type": "markdown",
   "metadata": {},
   "source": [
    "#### More useful array operations"
   ]
  },
  {
   "cell_type": "code",
   "execution_count": 12,
   "metadata": {},
   "outputs": [
    {
     "name": "stdout",
     "output_type": "stream",
     "text": [
      "9\n",
      "1\n",
      "[8 9 7]\n",
      "[7 9 8]\n"
     ]
    }
   ],
   "source": [
    "arr = np.array([\n",
    "    [1,3,7],\n",
    "    [6,9,4],\n",
    "    [8,5,2]\n",
    "])\n",
    "print(arr.max())\n",
    "print(arr.min())\n",
    "print(arr.max(axis=0)) # Row wise max element\n",
    "print(arr.max(axis=1)) # Column wise max element"
   ]
  },
  {
   "cell_type": "code",
   "execution_count": 13,
   "metadata": {},
   "outputs": [
    {
     "name": "stdout",
     "output_type": "stream",
     "text": [
      "[[1 6 8]\n",
      " [3 9 5]\n",
      " [7 4 2]]\n"
     ]
    }
   ],
   "source": [
    "arr = np.array([\n",
    "    [1,3,7],\n",
    "    [6,9,4],\n",
    "    [8,5,2]\n",
    "])\n",
    "# Transpose the array\n",
    "print(arr.transpose())"
   ]
  },
  {
   "cell_type": "code",
   "execution_count": 14,
   "metadata": {},
   "outputs": [
    {
     "name": "stdout",
     "output_type": "stream",
     "text": [
      "[ 1  2  5  7  8  9 10]\n",
      "[4 3 1 2 1 1 1]\n",
      "[ 0  2  4  6  7  8 10]\n"
     ]
    }
   ],
   "source": [
    "# We can perform some interesting operations with unique method in NUMPY library\n",
    "arr = np.array([1,1,8,1,2,2,9,7,5,7,10,1,2])\n",
    "print(np.unique(arr)) # returns list of unique elements\n",
    "occurance = np.unique(arr,return_counts=True) \n",
    "# print(occurance) # returns a list of unique elements & their occurances\n",
    "print(occurance[1])\n",
    "# To get the indices of unique values\n",
    "index = np.unique(arr,return_index=True)\n",
    "print(np.sort(index[1])) # printing in sorted ordered fashion"
   ]
  },
  {
   "cell_type": "code",
   "execution_count": 15,
   "metadata": {},
   "outputs": [
    {
     "name": "stdout",
     "output_type": "stream",
     "text": [
      "[8 7 6 5 4 3 2 1]\n"
     ]
    }
   ],
   "source": [
    "arr = np.array([1, 2, 3, 4, 5, 6, 7, 8])\n",
    "# We can reverse the array\n",
    "reversed_array = np.flip(arr)\n",
    "print(reversed_array)"
   ]
  },
  {
   "cell_type": "code",
   "execution_count": 16,
   "metadata": {},
   "outputs": [
    {
     "name": "stdout",
     "output_type": "stream",
     "text": [
      "[1 3 7 6 9 4 8 5 2]\n"
     ]
    }
   ],
   "source": [
    "arr = np.array([\n",
    "    [1,3,7],\n",
    "    [6,9,4],\n",
    "    [8,5,2]\n",
    "])\n",
    "# Flatten the array that means make an array 1-D\n",
    "print(arr.flatten())"
   ]
  }
 ],
 "metadata": {
  "kernelspec": {
   "display_name": "Python 3",
   "language": "python",
   "name": "python3"
  },
  "language_info": {
   "codemirror_mode": {
    "name": "ipython",
    "version": 3
   },
   "file_extension": ".py",
   "mimetype": "text/x-python",
   "name": "python",
   "nbconvert_exporter": "python",
   "pygments_lexer": "ipython3",
   "version": "3.11.1 (tags/v3.11.1:a7a450f, Dec  6 2022, 19:58:39) [MSC v.1934 64 bit (AMD64)]"
  },
  "orig_nbformat": 4,
  "vscode": {
   "interpreter": {
    "hash": "673c7c37211c3a73e756ae206c0a297171adc12a0e19e19cad25541aad02dece"
   }
  }
 },
 "nbformat": 4,
 "nbformat_minor": 2
}
